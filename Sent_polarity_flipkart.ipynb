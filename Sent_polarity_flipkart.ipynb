{
 "cells": [
  {
   "cell_type": "code",
   "execution_count": 1,
   "metadata": {},
   "outputs": [],
   "source": [
    "from lxml import html\n",
    "import requests#apache2 licensed python library\n",
    "import csv"
   ]
  },
  {
   "cell_type": "code",
   "execution_count": 2,
   "metadata": {},
   "outputs": [],
   "source": [
    "import urllib\n",
    "from bs4 import BeautifulSoup"
   ]
  },
  {
   "cell_type": "code",
   "execution_count": 3,
   "metadata": {},
   "outputs": [],
   "source": [
    "import numpy as np"
   ]
  },
  {
   "cell_type": "code",
   "execution_count": 4,
   "metadata": {},
   "outputs": [],
   "source": [
    "items = [\"Watches\",\"Books\",\"Footwear\",\"Tables\",\"Shirts\",\"Sandals\",\"Toys\",\"Lighting\",\"Furniture\"]"
   ]
  },
  {
   "cell_type": "code",
   "execution_count": 5,
   "metadata": {},
   "outputs": [
    {
     "name": "stdout",
     "output_type": "stream",
     "text": [
      "1 Watches\n",
      "2 Books\n",
      "3 Footwear\n",
      "4 Tables\n",
      "5 Shirts\n",
      "6 Sandals\n",
      "7 Toys\n",
      "8 Lighting\n",
      "9 Furniture\n"
     ]
    }
   ],
   "source": [
    "for i, item_name in enumerate(items):\n",
    "    print(i+1,item_name)"
   ]
  },
  {
   "cell_type": "code",
   "execution_count": 6,
   "metadata": {},
   "outputs": [
    {
     "name": "stdout",
     "output_type": "stream",
     "text": [
      "Enter your Choice of product\n",
      "5\n"
     ]
    }
   ],
   "source": [
    "print(\"Enter your Choice of product\")\n",
    "choice = int(input())"
   ]
  },
  {
   "cell_type": "code",
   "execution_count": 7,
   "metadata": {},
   "outputs": [
    {
     "name": "stdout",
     "output_type": "stream",
     "text": [
      "shirts\n"
     ]
    }
   ],
   "source": [
    "print(items[choice-1].lower())"
   ]
  },
  {
   "cell_type": "code",
   "execution_count": 8,
   "metadata": {},
   "outputs": [],
   "source": [
    "readurl = \"https://www.flipkart.com/search?q=\"+items[choice-1].lower()+\"&otracker=search&otracker1=search&marketplace=FLIPKART&as-show=off&as=off\"\n",
    "# readurl = \"https://www.flipkart.com/search?q=books&otracker=search&otracker1=search&marketplace=FLIPKART&as-show=off&as=off\"\n",
    "page = urllib.request.urlopen(readurl)\n",
    "soup = BeautifulSoup(page,\"lxml\")"
   ]
  },
  {
   "cell_type": "code",
   "execution_count": 9,
   "metadata": {},
   "outputs": [],
   "source": [
    "item_list = soup.find_all(\"div\",class_=\"_1HmYoV _35HD7C col-10-12\")"
   ]
  },
  {
   "cell_type": "code",
   "execution_count": 10,
   "metadata": {},
   "outputs": [],
   "source": [
    "for tag in item_list:\n",
    "    specific_book = tag.find_all(\"a\",class_=\"_2cLu-l\")\n",
    "title = []#list to store title of books\n",
    "for tag in specific_book:\n",
    "    title.append(tag.text)"
   ]
  },
  {
   "cell_type": "code",
   "execution_count": 11,
   "metadata": {},
   "outputs": [],
   "source": [
    "review_link = []\n",
    "for tag in specific_book:\n",
    "    link = tag.get('href')\n",
    "    link = link.replace('/p','/product-reviews')\n",
    "    and_index = link.find('&')\n",
    "    link = link[:and_index]\n",
    "    link = link[:link.find('pid')]+'page=&'+link[link.find('pid'):]\n",
    "    review_link.append(link)"
   ]
  },
  {
   "cell_type": "code",
   "execution_count": 12,
   "metadata": {},
   "outputs": [
    {
     "name": "stdout",
     "output_type": "stream",
     "text": [
      "Which particular item's review do you want to be analysed?\n",
      "1 Rope Men's Checkered Casual Multicolor Shirt\n",
      "2 Dennis Lingo Men's Solid Casual Light Blue Shirt\n",
      "3 Deeksha Men's Solid Casual Button Down Shirt\n",
      "4 ROSSO FEM Men Solid Casual Black Shirt\n",
      "5 Rope Men's Checkered Casual Black Shirt\n",
      "6 Dennis Lingo Men's Solid Casual Dark Blue Shirt\n",
      "7 Rodid Men Colorblocked Casual Black Shirt\n",
      "8 Dennis Lingo Men Checkered Casual Red Shirt\n",
      "9 Nautica Men Checkered Casual Multicolor Shirt\n",
      "10 Rope Men's Solid Casual Maroon Shirt\n",
      "11 Rope Men's Solid Casual White Shirt\n",
      "12 Campus Sutra Men Checkered Casual Black Shirt\n",
      "13 Being Fab Men's Solid Formal Blue Shirt\n",
      "14 VERO LIE Men Solid Casual Dark Blue Shirt\n",
      "15 Rope Men Solid Casual Maroon Shirt\n",
      "16 MR.KAMEEJ Men's Self Design Casual White Shirt\n",
      "17 Rope Men's Solid Casual Black Shirt\n",
      "18 Dennis Lingo Men Checkered Casual Blue Shirt\n",
      "19 U.S. Polo Assn Men's Checkered Casual Blue Shirt\n",
      "20 Duenite Men Solid Casual Blue Shirt\n",
      "21 Tripr Men Checkered Casual Black, White Shirt\n",
      "22 n t fashion Men's Solid Casual Gold Shirt\n",
      "23 U TURN Men's Solid Casual Blue Shirt\n",
      "24 ROSSO FEM Men's Solid Casual White Shirt\n",
      "25 Rope Men's Solid Casual Maroon Shirt\n",
      "26 Arrow Jeans Men Checkered Casual Dark Blue Shirt\n",
      "27 Rope Men's Solid Casual Blue Shirt\n",
      "28 U.S. Polo Assn Men Printed Casual Light Blue Shirt\n",
      "29 Arrow Jeans Men Checkered Casual Brown Shirt\n",
      "30 Campus Sutra Men's Checkered Casual Grey Shirt\n",
      "31 Deeksha Men's Solid Casual Button Down Shirt\n",
      "32 ROSSO FEM Men's Solid Casual Blue Shirt\n",
      "33 Metronaut Men Solid Casual Blue Shirt\n",
      "34 MR.KAMEEJ Men's Floral Print Casual Multicolor Shirt\n",
      "35 Dennis Lingo Men Solid Casual Light Blue Shirt\n",
      "36 Rope Men's Solid Casual Blue Shirt\n",
      "37 ShopyBucket Men Solid Party Blue Shirt\n",
      "38 Campus Sutra Men's Checkered Casual Blue Shirt\n",
      "39 Rodid Men's Solid Casual Black, Grey Shirt\n",
      "40 ROSSO FEM Men's Solid Casual Red Shirt\n"
     ]
    }
   ],
   "source": [
    "# only the first 40 items in the flipkart search are displayed\n",
    "print(\"Which particular item's review do you want to be analysed?\")\n",
    "for i, book_name in enumerate(title):\n",
    "    print(i+1,book_name)"
   ]
  },
  {
   "cell_type": "code",
   "execution_count": 13,
   "metadata": {},
   "outputs": [
    {
     "name": "stdout",
     "output_type": "stream",
     "text": [
      "Enter the index of item:\n",
      "40\n"
     ]
    }
   ],
   "source": [
    "print(\"Enter the index of item:\")\n",
    "product_index = int(input())"
   ]
  },
  {
   "cell_type": "code",
   "execution_count": 14,
   "metadata": {},
   "outputs": [],
   "source": [
    "searchurl = 'https://www.flipkart.com'+review_link[product_index-1]"
   ]
  },
  {
   "cell_type": "code",
   "execution_count": 15,
   "metadata": {},
   "outputs": [
    {
     "name": "stdout",
     "output_type": "stream",
     "text": [
      "https://www.flipkart.com/rosso-fem-men-s-solid-casual-red-shirt/product-reviews/itmf3x6h4fwa4ahz?page=&pid=SHTETF2FG9DTKTUU\n"
     ]
    }
   ],
   "source": [
    "print(searchurl)"
   ]
  },
  {
   "cell_type": "code",
   "execution_count": 16,
   "metadata": {},
   "outputs": [],
   "source": [
    "# To remove characters from extended ascii\n",
    "def remove_non_ascii_1(text):\n",
    "    return ''.join([i if ord(i) < 128 else ' ' for i in text])"
   ]
  },
  {
   "cell_type": "code",
   "execution_count": 17,
   "metadata": {},
   "outputs": [
    {
     "name": "stdout",
     "output_type": "stream",
     "text": [
      "ROSSO FEM Men's Solid Casual Red Shirt\n"
     ]
    }
   ],
   "source": [
    "print(title[product_index-1])"
   ]
  },
  {
   "cell_type": "code",
   "execution_count": 18,
   "metadata": {},
   "outputs": [
    {
     "name": "stdout",
     "output_type": "stream",
     "text": [
      "I have ordered this product and it has unique colour with nicely stitched clothing. It has a good fitting with quality of cloth is superior. \n",
      "Fabulous product and material also superb totaly satisfied by this product \n",
      "Very nice \n",
      "nice product i really love it. \n",
      "nyc products... its be awesome ...    \n",
      "Bad Packaging but shirt is very nice \n",
      "Very nice shirt nd nice fabric good broduct \n",
      "Nice product \n",
      "not as I was expecting \n",
      "I really liked this product very much and also very very prompt delivery. I have informed many of my friends regarding the product and the delivery. I hope everyone will like it. Really very nice shirt \n",
      "The Shirt Is So Nice... I've Bought This For My Partner & He Is very Happy... Thnk U Flipkart... \n",
      "good not bad \n",
      "online use and parfect app \n",
      "Nice 100%cotton \n",
      "OK gud \n",
      "nice color and quality..... material is also good \n",
      "delivery is very fast...thanks to Flipkart service \n",
      "good \n",
      "ok \n",
      "      \n",
      "nice product perfect fitting \n",
      "nice \n",
      "nice \n",
      "No finish \n",
      "Nicee \n",
      "Nice \n",
      "products is good but chest lobo is not present in same image \n",
      "Good \n",
      "Really super \n",
      "Not worthy completely disappointed don't buy it colour not matched as shown in figure \n",
      "It's better than my imagination . A nice costworthly product .You have to like it \n",
      "fantastic shirt but clothes quality is not so good \n",
      "OK not bad \n",
      "Original Shirt Completely Different Quality from Acutual Image Quality  Low Quality Material  Delivery O.K \n",
      "Cool \n",
      "Good \n",
      "Good... \n",
      "sending cheap product .... don't waste ur money to buy this.... \n",
      "VERY BAD fittingsNot Same Shown As PICTURE2nd Hand Product sent Packaging is WORST \n",
      "Do not buy this product  the item was poor quality  flipcart sell poor quality product Totally money worst \n",
      "Very short don't go for it \n",
      "Excellent \n",
      "satisfied \n",
      "Size is not fitting returned \n",
      "good \n",
      "nice \n",
      "good \n",
      "Third grade \n",
      "low quality \n",
      "very bad \n",
      "good \n",
      "Very nice shirt \n",
      "Nice..But issue of size..M is some smaller than normal..so Long is good for M..but probuct Nice \n",
      "very nice shirt \n",
      "dead no quality \n",
      "nice product perfect fitting. \n",
      "i like it \n",
      "nice \n",
      "nice \n",
      "Nyc_Product \n",
      "not same as the product \n",
      "awesome product quility go for it. \n",
      "no seen like picture \n",
      "the description says it's cotton but originally it's tericott \n",
      "Bad quality \n",
      "quality not worth in this rate too high \n",
      "nice \n",
      "nice \n",
      "Not satisfied. Dusting on shirt and no logo on pocket space. \n",
      "it's good and awesome \n",
      "quality is ok type... \n",
      "good product \n",
      "excellent \n",
      "Good product but one reject point.......I expet this product and thank you flipcart \n",
      "Fantastic \n",
      "Good...  \n",
      "nice shirt   \n",
      "just ok not as expected as \n",
      "goood very nice product \n",
      "awesome quality \n",
      "nice but long and a bottom is missing  \n",
      "rich quality \n",
      "wast of money \n",
      "Good \n",
      "nice \n",
      "Fantastic product and Super fast delivery \n",
      "good q \n",
      "very nice products \n",
      "worst quality  Flipkart please be cautious \n",
      "Good fabric with good looks \n",
      "good shirt \n",
      "Good product \n",
      "Very cheap quality \n",
      "good \n",
      "Gd \n",
      "great product I m very happy \n",
      "cloth quality is not same as seen in picture \n",
      "nice \n",
      "average . value for money. \n",
      "This shirt Logo badge missing.Not in the shirt at chest area. \n"
     ]
    }
   ],
   "source": [
    "#collecting first 10 review pages review\n",
    "for n in range(1,11):\n",
    "    and_index = searchurl.find('&')\n",
    "    \n",
    "    readurl = searchurl[:and_index]+str(n)+searchurl[and_index:] \n",
    "    #readurl = 'https://www.flipkart.com/marry-me-stranger/product-reviews/itmegmt25ccezgsh?page='+str(n)+'&pid=9788184005967'\n",
    "    \n",
    "    page = urllib.request.urlopen(readurl)\n",
    "    \n",
    "    soup = BeautifulSoup(page,\"lxml\")\n",
    "    \n",
    "    ans = soup.find_all(\"div\", class_=\"_3DCdKt\")\n",
    "    \n",
    "    # Display reviews\n",
    "    for tag in ans:\n",
    "        content = tag.find(\"div\", class_=\"qwjRop\").text\n",
    "        content = remove_non_ascii_1(content)\n",
    "        content.encode('ascii','ignore')\n",
    "        content = content.replace('READ MORE',\" \")\n",
    "        content = content.replace(',',' ')\n",
    "        with open(title[product_index-1]+'.csv','a') as file:\n",
    "            file.write(content)\n",
    "            file.write('\\n')\n",
    "        print(content)"
   ]
  },
  {
   "cell_type": "code",
   "execution_count": 19,
   "metadata": {},
   "outputs": [],
   "source": [
    "import pandas as pd"
   ]
  },
  {
   "cell_type": "code",
   "execution_count": 20,
   "metadata": {},
   "outputs": [],
   "source": [
    "flipkartreviews = pd.read_csv(title[product_index-1]+'.csv',header = None,names=[\"Reviews\"])"
   ]
  },
  {
   "cell_type": "code",
   "execution_count": 21,
   "metadata": {},
   "outputs": [
    {
     "name": "stdout",
     "output_type": "stream",
     "text": [
      "99\n"
     ]
    }
   ],
   "source": [
    "print(len(flipkartreviews))"
   ]
  },
  {
   "cell_type": "code",
   "execution_count": 22,
   "metadata": {},
   "outputs": [],
   "source": [
    "# For debugging purpose\n",
    "# flipkartreviews[\"Reviews\"]"
   ]
  },
  {
   "cell_type": "code",
   "execution_count": 23,
   "metadata": {},
   "outputs": [],
   "source": [
    "flipkartreviews[\"Reviews\"] = flipkartreviews[\"Reviews\"].astype('str')"
   ]
  },
  {
   "cell_type": "code",
   "execution_count": 24,
   "metadata": {},
   "outputs": [],
   "source": [
    "from textblob import TextBlob"
   ]
  },
  {
   "cell_type": "code",
   "execution_count": 60,
   "metadata": {},
   "outputs": [],
   "source": [
    "sentiment_score = 0\n",
    "for row_count in range(len(flipkartreviews[\"Reviews\"])):\n",
    "    blob = TextBlob(flipkartreviews[\"Reviews\"][row_count])\n",
    "    for sentence in blob.sentences:\n",
    "        sentiment_score+=sentence.sentiment.polarity"
   ]
  },
  {
   "cell_type": "markdown",
   "metadata": {},
   "source": [
    "## Overall Average sentiment score"
   ]
  },
  {
   "cell_type": "code",
   "execution_count": 61,
   "metadata": {},
   "outputs": [
    {
     "name": "stdout",
     "output_type": "stream",
     "text": [
      "Average sentiment Score: 0.4196240179573516\n"
     ]
    }
   ],
   "source": [
    "# Analysis on Document level\n",
    "avg_score = sentiment_score/len(flipkartreviews[\"Reviews\"])\n",
    "print(\"Average sentiment Score:\",avg_score)"
   ]
  },
  {
   "cell_type": "code",
   "execution_count": 62,
   "metadata": {},
   "outputs": [
    {
     "name": "stdout",
     "output_type": "stream",
     "text": [
      "On Document Level the reviews are Positive.\n"
     ]
    }
   ],
   "source": [
    "if avg_score>0.33:\n",
    "    print(\"On Document Level the reviews are Positive.\")\n",
    "elif avg_score>-0.33:\n",
    "    print(\"On Document Level the reviews are Negative.\")\n",
    "else:\n",
    "    print(\"On Document Level the reviews are Negative.\")"
   ]
  },
  {
   "cell_type": "code",
   "execution_count": 28,
   "metadata": {},
   "outputs": [],
   "source": [
    "import nltk\n",
    "from nltk.corpus import stopwords\n",
    "from nltk.classify import SklearnClassifier\n",
    "from sklearn.feature_extraction.text import CountVectorizer\n",
    "from nltk.tokenize import sent_tokenize,word_tokenize\n",
    "#from nltk.stem import WordNetLemmatizer"
   ]
  },
  {
   "cell_type": "code",
   "execution_count": 29,
   "metadata": {},
   "outputs": [],
   "source": [
    "import re"
   ]
  },
  {
   "cell_type": "code",
   "execution_count": 30,
   "metadata": {},
   "outputs": [],
   "source": [
    "# token_sents = sent_tokenize(str(flipkartreviews))\n",
    "\n",
    "filtered_sent = []\n",
    "for i in range(len(flipkartreviews)):\n",
    "    filtered_sent.extend(sent_tokenize(flipkartreviews[\"Reviews\"][i]))"
   ]
  },
  {
   "cell_type": "code",
   "execution_count": 31,
   "metadata": {},
   "outputs": [],
   "source": [
    "# For debugging purpose\n",
    "# filtered_sent[2]"
   ]
  },
  {
   "cell_type": "code",
   "execution_count": 32,
   "metadata": {},
   "outputs": [],
   "source": [
    "stop_word = set(stopwords.words(\"english\"))\n",
    "\n",
    "flipkartreviews_str = ''\n",
    "for i in range(len(flipkartreviews)):\n",
    "    flipkartreviews_str+=''.join(flipkartreviews['Reviews'][i])+' '"
   ]
  },
  {
   "cell_type": "code",
   "execution_count": 33,
   "metadata": {},
   "outputs": [],
   "source": [
    "words = word_tokenize(flipkartreviews_str)"
   ]
  },
  {
   "cell_type": "code",
   "execution_count": 34,
   "metadata": {},
   "outputs": [],
   "source": [
    "wordsFiltered = []# List to store each word in review removing stopwords\n",
    "for w in words:\n",
    "     if w not in stop_word:\n",
    "            wordsFiltered.append(w)"
   ]
  },
  {
   "cell_type": "code",
   "execution_count": 35,
   "metadata": {},
   "outputs": [],
   "source": [
    "# For debugging purpose\n",
    "# wordsFiltered"
   ]
  },
  {
   "cell_type": "markdown",
   "metadata": {},
   "source": [
    "## Lemmatization "
   ]
  },
  {
   "cell_type": "code",
   "execution_count": 36,
   "metadata": {},
   "outputs": [],
   "source": [
    "pos_tag = nltk.pos_tag(wordsFiltered)"
   ]
  },
  {
   "cell_type": "code",
   "execution_count": 37,
   "metadata": {},
   "outputs": [],
   "source": [
    "from nltk.stem.wordnet import WordNetLemmatizer\n",
    "wordnet_lemmatizer = WordNetLemmatizer()"
   ]
  },
  {
   "cell_type": "code",
   "execution_count": 38,
   "metadata": {},
   "outputs": [],
   "source": [
    "lemma = []\n",
    "for word, tag in pos_tag:\n",
    "    wntag = tag[0].lower()\n",
    "    wntag = wntag if wntag in ['a','r','n','v'] else None\n",
    "    if not wntag:\n",
    "        lemma.append(word)\n",
    "    else:\n",
    "        lemma.append(wordnet_lemmatizer.lemmatize(word,wntag))"
   ]
  },
  {
   "cell_type": "code",
   "execution_count": 39,
   "metadata": {},
   "outputs": [],
   "source": [
    "flipkartreviews2 = pd.DataFrame(lemma,columns=['Words'])"
   ]
  },
  {
   "cell_type": "code",
   "execution_count": 40,
   "metadata": {},
   "outputs": [
    {
     "name": "stdout",
     "output_type": "stream",
     "text": [
      "           Words\n",
      "0              I\n",
      "1          order\n",
      "2        product\n",
      "3         unique\n",
      "4         colour\n",
      "5         nicely\n",
      "6         stitch\n",
      "7       clothing\n",
      "8              .\n",
      "9             It\n",
      "10          good\n",
      "11       fitting\n",
      "12       quality\n",
      "13         cloth\n",
      "14      superior\n",
      "15             .\n",
      "16      Fabulous\n",
      "17       product\n",
      "18      material\n",
      "19          also\n",
      "20        superb\n",
      "21        totaly\n",
      "22     satisfied\n",
      "23       product\n",
      "24          Very\n",
      "25          nice\n",
      "26          nice\n",
      "27       product\n",
      "28        really\n",
      "29          love\n",
      "..           ...\n",
      "370         Good\n",
      "371      product\n",
      "372         Very\n",
      "373        cheap\n",
      "374      quality\n",
      "375         good\n",
      "376           Gd\n",
      "377        great\n",
      "378      product\n",
      "379            I\n",
      "380        happy\n",
      "381        cloth\n",
      "382      quality\n",
      "383          see\n",
      "384      picture\n",
      "385         nice\n",
      "386      average\n",
      "387            .\n",
      "388        value\n",
      "389        money\n",
      "390            .\n",
      "391         This\n",
      "392        shirt\n",
      "393         Logo\n",
      "394        badge\n",
      "395  missing.Not\n",
      "396        shirt\n",
      "397        chest\n",
      "398         area\n",
      "399            .\n",
      "\n",
      "[400 rows x 1 columns]\n"
     ]
    }
   ],
   "source": [
    "print(flipkartreviews2)"
   ]
  },
  {
   "cell_type": "code",
   "execution_count": 41,
   "metadata": {},
   "outputs": [],
   "source": [
    "def sentimental_analyze(word):\n",
    "    '''\n",
    "    Utility function to classify the polarity \n",
    "    using textblob.\n",
    "    '''\n",
    "    analysis = TextBlob(word)\n",
    "    if analysis.sentiment.polarity > 0:\n",
    "        return 1\n",
    "    elif analysis.sentiment.polarity == 0:\n",
    "        return 0\n",
    "    else:\n",
    "        return -1"
   ]
  },
  {
   "cell_type": "code",
   "execution_count": 42,
   "metadata": {},
   "outputs": [],
   "source": [
    "flipkartreviews2['Sentiment_Polarity'] = np.array([sentimental_analyze(word) for word in flipkartreviews2[\"Words\"] ])"
   ]
  },
  {
   "cell_type": "code",
   "execution_count": 43,
   "metadata": {},
   "outputs": [],
   "source": [
    "sent_word_sum = np.array([sentimental_analyze(word) for word in flipkartreviews2[\"Words\"] ])"
   ]
  },
  {
   "cell_type": "code",
   "execution_count": 44,
   "metadata": {},
   "outputs": [
    {
     "name": "stdout",
     "output_type": "stream",
     "text": [
      "No of good words in the review(after removing stop words): 116\n",
      "No of negative words in the review(after removing stop words): 17\n"
     ]
    }
   ],
   "source": [
    "#The count of positive nd negative words\n",
    "# Word level analysis of reviews\n",
    "count_neg1 = (sent_word_sum ==-1).sum()\n",
    "count_pos1 = (sent_word_sum ==1).sum()\n",
    "\n",
    "print(\"No of good words in the review(after removing stop words):\",count_pos1)\n",
    "print(\"No of negative words in the review(after removing stop words):\",count_neg1)"
   ]
  },
  {
   "cell_type": "code",
   "execution_count": 45,
   "metadata": {},
   "outputs": [],
   "source": [
    "flipkartreviews3 = pd.DataFrame(filtered_sent,columns =[\"Sentences\"])\n",
    "#flipkartreviews3 = flipkartreviews.copy()"
   ]
  },
  {
   "cell_type": "code",
   "execution_count": 46,
   "metadata": {},
   "outputs": [],
   "source": [
    "# For debugging purpose\n",
    "# flipkartreviews3"
   ]
  },
  {
   "cell_type": "code",
   "execution_count": 47,
   "metadata": {},
   "outputs": [],
   "source": [
    "# \n",
    "flipkartreviews3['Sentiment_Polarity'] = np.array([sentimental_analyze(word) for word in flipkartreviews3[\"Sentences\"] ])\n",
    "# flipkartreviews3['Sentiment_Polarity'] = np.array([sentimental_analyze(word) for word in flipkartreviews3[\"Reviews\"] ])"
   ]
  },
  {
   "cell_type": "code",
   "execution_count": 49,
   "metadata": {},
   "outputs": [
    {
     "name": "stdout",
     "output_type": "stream",
     "text": [
      "                                             Sentences  Sentiment_Polarity\n",
      "0    I have ordered this product and it has unique ...                   1\n",
      "1    It has a good fitting with quality of cloth is...                   1\n",
      "2    Fabulous product and material also superb tota...                   1\n",
      "3                                            Very nice                   1\n",
      "4                       nice product i really love it.                   1\n",
      "5                   nyc products... its be awesome ...                   1\n",
      "6                 Bad Packaging but shirt is very nice                   1\n",
      "7          Very nice shirt nd nice fabric good broduct                   1\n",
      "8                                         Nice product                   1\n",
      "9                               not as I was expecting                   0\n",
      "10   I really liked this product very much and also...                   1\n",
      "11   I have informed many of my friends regarding t...                   1\n",
      "12                       I hope everyone will like it.                   0\n",
      "13                              Really very nice shirt                   1\n",
      "14                             The Shirt Is So Nice...                   1\n",
      "15   I've Bought This For My Partner & He Is very H...                   1\n",
      "16                                        good not bad                   1\n",
      "17                          online use and parfect app                   0\n",
      "18                                     Nice 100%cotton                   1\n",
      "19                                              OK gud                   1\n",
      "20   nice color and quality..... material is also good                   1\n",
      "21   delivery is very fast...thanks to Flipkart ser...                   1\n",
      "22                                                good                   1\n",
      "23                                                  ok                   1\n",
      "24                        nice product perfect fitting                   1\n",
      "25                                                nice                   1\n",
      "26                                                nice                   1\n",
      "27                                           No finish                   0\n",
      "28                                               Nicee                   0\n",
      "29                                                Nice                   1\n",
      "..                                                 ...                 ...\n",
      "77                                        good product                   1\n",
      "78                                           excellent                   1\n",
      "79   Good product but one reject point.......I expe...                   1\n",
      "80                                           Fantastic                   1\n",
      "81                                             Good...                   1\n",
      "82                                          nice shirt                   1\n",
      "83                          just ok not as expected as                   1\n",
      "84                             goood very nice product                   1\n",
      "85                                     awesome quality                   1\n",
      "86               nice but long and a bottom is missing                   1\n",
      "87                                        rich quality                   1\n",
      "88                                       wast of money                   0\n",
      "89                                                Good                   1\n",
      "90                                                nice                   1\n",
      "91           Fantastic product and Super fast delivery                   1\n",
      "92                                              good q                   1\n",
      "93                                  very nice products                   1\n",
      "94          worst quality  Flipkart please be cautious                  -1\n",
      "95                         Good fabric with good looks                   1\n",
      "96                                          good shirt                   1\n",
      "97                                        Good product                   1\n",
      "98                                  Very cheap quality                   1\n",
      "99                                                good                   1\n",
      "100                                                 Gd                   0\n",
      "101                       great product I m very happy                   1\n",
      "102       cloth quality is not same as seen in picture                   0\n",
      "103                                               nice                   1\n",
      "104                                          average .                  -1\n",
      "105                                   value for money.                   0\n",
      "106  This shirt Logo badge missing.Not in the shirt...                   0\n",
      "\n",
      "[107 rows x 2 columns]\n"
     ]
    }
   ],
   "source": [
    "# For debugging purpose\n",
    "#print(flipkartreviews3.head(10))\n",
    "print(flipkartreviews3)"
   ]
  },
  {
   "cell_type": "code",
   "execution_count": 63,
   "metadata": {},
   "outputs": [],
   "source": [
    "# Constructing lists with classified reviews:\n",
    "positive_revs = [ review for index, review in enumerate(flipkartreviews3['Sentences']) if flipkartreviews3['Sentiment_Polarity'][index] > 0]\n",
    "neutral_revs = [ review for index, review in enumerate(flipkartreviews3['Sentences']) if flipkartreviews3['Sentiment_Polarity'][index] == 0]\n",
    "negative_revs = [ review for index, review in enumerate(flipkartreviews3['Sentences']) if flipkartreviews3['Sentiment_Polarity'][index] < 0]\n",
    "\n",
    "\n",
    "# positive_revs = [ review for index, review in enumerate(flipkartreviews3['Reviews']) if flipkartreviews3['Sentiment_Polarity'][index] > 0]\n",
    "# neutral_revs = [ review for index, review in enumerate(flipkartreviews3['Reviews']) if flipkartreviews3['Sentiment_Polarity'][index] == 0]\n",
    "# negative_revs = [ review for index, review in enumerate(flipkartreviews3['Reviews']) if flipkartreviews3['Sentiment_Polarity'][index] < 0]"
   ]
  },
  {
   "cell_type": "code",
   "execution_count": 64,
   "metadata": {},
   "outputs": [
    {
     "name": "stdout",
     "output_type": "stream",
     "text": [
      "Percentage of positive reviews: 73.83177570093459%\n",
      "Percentage of neutral reviews: 16.822429906542055%\n",
      "Percentage of negative reviews: 9.345794392523365%\n"
     ]
    }
   ],
   "source": [
    "# Printing percentages:\n",
    "\n",
    "print(\"Percentage of positive reviews: {}%\".format(len(positive_revs)*100/len(flipkartreviews3['Sentences'])))\n",
    "print(\"Percentage of neutral reviews: {}%\".format(len(neutral_revs)*100/len(flipkartreviews3['Sentences'])))\n",
    "print(\"Percentage of negative reviews: {}%\".format(len(negative_revs)*100/len(flipkartreviews3['Sentences'])))\n",
    "\n",
    "# print(\"Percentage of positive reviews: {}%\".format(len(positive_revs)*100/len(flipkartreviews3['Reviews'])))\n",
    "# print(\"Percentage of neutral reviews: {}%\".format(len(neutral_revs)*100/len(flipkartreviews3['Reviews'])))\n",
    "# print(\"Percentage of negative reviews: {}%\".format(len(negative_revs)*100/len(flipkartreviews3['Reviews'])))"
   ]
  },
  {
   "cell_type": "code",
   "execution_count": 65,
   "metadata": {},
   "outputs": [
    {
     "name": "stdout",
     "output_type": "stream",
     "text": [
      "On a scale of 1-10 the item has a score of 7\n"
     ]
    }
   ],
   "source": [
    "print(\"On a scale of 1-10 the item has a score of\",round(len(positive_revs)/len(flipkartreviews3['Sentences']) * 10))"
   ]
  },
  {
   "cell_type": "code",
   "execution_count": 66,
   "metadata": {},
   "outputs": [],
   "source": [
    "import matplotlib.pyplot as plt"
   ]
  },
  {
   "cell_type": "code",
   "execution_count": 67,
   "metadata": {},
   "outputs": [],
   "source": [
    "x = len(positive_revs),len(neutral_revs),len(negative_revs)\n",
    "x = list(x)"
   ]
  },
  {
   "cell_type": "code",
   "execution_count": 68,
   "metadata": {},
   "outputs": [
    {
     "data": {
      "image/png": "[encoded data removed]",
      "text/plain": [
       "<Figure size 432x288 with 1 Axes>"
      ]
     },
     "metadata": {},
     "output_type": "display_data"
    }
   ],
   "source": [
    "colors = ['yellowgreen','gold','lightcoral']\n",
    "labels = ['Positive','Neutral','Negative']\n",
    "plt.pie(x,labels=labels ,colors=colors,autopct='%.2f')\n",
    "plt.legend(loc = 'best')\n",
    "plt.show()"
   ]
  },
  {
   "cell_type": "markdown",
   "metadata": {},
   "source": [
    "## Vectorization"
   ]
  },
  {
   "cell_type": "code",
   "execution_count": 69,
   "metadata": {},
   "outputs": [],
   "source": [
    "x = flipkartreviews2['Words']"
   ]
  },
  {
   "cell_type": "code",
   "execution_count": 70,
   "metadata": {},
   "outputs": [],
   "source": [
    "cv = CountVectorizer(words).fit(x)"
   ]
  },
  {
   "cell_type": "markdown",
   "metadata": {},
   "source": [
    "## Sparse matrix form"
   ]
  },
  {
   "cell_type": "code",
   "execution_count": 71,
   "metadata": {},
   "outputs": [],
   "source": [
    "x = cv.transform(x)"
   ]
  },
  {
   "cell_type": "markdown",
   "metadata": {},
   "source": [
    "# Naive Bayes classification"
   ]
  },
  {
   "cell_type": "markdown",
   "metadata": {},
   "source": [
    "Train test split"
   ]
  },
  {
   "cell_type": "code",
   "execution_count": 72,
   "metadata": {},
   "outputs": [],
   "source": [
    "from sklearn.model_selection import train_test_split"
   ]
  },
  {
   "cell_type": "code",
   "execution_count": 73,
   "metadata": {},
   "outputs": [],
   "source": [
    "y = flipkartreviews2[\"Sentiment_Polarity\"]"
   ]
  },
  {
   "cell_type": "code",
   "execution_count": 74,
   "metadata": {},
   "outputs": [],
   "source": [
    "#train = 67,test = 33\n",
    "x_train, x_test, y_train, y_test = train_test_split(x, y, test_size=0.33)"
   ]
  },
  {
   "cell_type": "markdown",
   "metadata": {},
   "source": [
    "## Multinomial Naive bayes model"
   ]
  },
  {
   "cell_type": "code",
   "execution_count": 75,
   "metadata": {},
   "outputs": [],
   "source": [
    "from sklearn.naive_bayes import MultinomialNB\n",
    "nb = MultinomialNB()"
   ]
  },
  {
   "cell_type": "code",
   "execution_count": 76,
   "metadata": {},
   "outputs": [
    {
     "data": {
      "text/plain": [
       "MultinomialNB(alpha=1.0, class_prior=None, fit_prior=True)"
      ]
     },
     "execution_count": 76,
     "metadata": {},
     "output_type": "execute_result"
    }
   ],
   "source": [
    "nb.fit(x_train, y_train)"
   ]
  },
  {
   "cell_type": "code",
   "execution_count": 77,
   "metadata": {},
   "outputs": [],
   "source": [
    "prediction = nb.predict(x_test)"
   ]
  },
  {
   "cell_type": "code",
   "execution_count": 78,
   "metadata": {},
   "outputs": [],
   "source": [
    "from sklearn.metrics import confusion_matrix, classification_report\n",
    "from sklearn.metrics import accuracy_score"
   ]
  },
  {
   "cell_type": "code",
   "execution_count": 79,
   "metadata": {},
   "outputs": [
    {
     "name": "stdout",
     "output_type": "stream",
     "text": [
      "[[ 0  3  0]\n",
      " [ 0 89  0]\n",
      " [ 0  8 32]]\n",
      "\n",
      "\n",
      "             precision    recall  f1-score   support\n",
      "\n",
      "         -1       0.00      0.00      0.00         3\n",
      "          0       0.89      1.00      0.94        89\n",
      "          1       1.00      0.80      0.89        40\n",
      "\n",
      "avg / total       0.90      0.92      0.90       132\n",
      "\n",
      "\n",
      "\n",
      "The Accuracy of the model is 91.66666666666666 %\n"
     ]
    },
    {
     "name": "stderr",
     "output_type": "stream",
     "text": [
      "/home/bharath/anaconda3/lib/python3.6/site-packages/sklearn/metrics/classification.py:1135: UndefinedMetricWarning: Precision and F-score are ill-defined and being set to 0.0 in labels with no predicted samples.\n",
      "  'precision', 'predicted', average, warn_for)\n"
     ]
    }
   ],
   "source": [
    "print(confusion_matrix(y_test, prediction))\n",
    "print('\\n')\n",
    "print(classification_report(y_test, prediction))\n",
    "print('\\n')\n",
    "print(\"The Accuracy of the model is\",accuracy_score(y_test, prediction, normalize = True)*100,\"%\")"
   ]
  },
  {
   "cell_type": "code",
   "execution_count": null,
   "metadata": {},
   "outputs": [],
   "source": []
  }
 ],
 "metadata": {
  "kernelspec": {
   "display_name": "Python [conda env:anaconda3]",
   "language": "python",
   "name": "conda-env-anaconda3-py"
  },
  "language_info": {
   "codemirror_mode": {
    "name": "ipython",
    "version": 3
   },
   "file_extension": ".py",
   "mimetype": "text/x-python",
   "name": "python",
   "nbconvert_exporter": "python",
   "pygments_lexer": "ipython3",
   "version": "3.6.5"
  }
 },
 "nbformat": 4,
 "nbformat_minor": 2
}
